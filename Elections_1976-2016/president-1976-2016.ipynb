{
 "cells": [
  {
   "cell_type": "markdown",
   "metadata": {},
   "source": [
    "#                        President Elections 1976 - 2016 "
   ]
  },
  {
   "cell_type": "code",
   "execution_count": 1,
   "metadata": {},
   "outputs": [],
   "source": [
    "__author__ = \"Stephanie Marin V.\"\n",
    "__copyright__ = \"Copyright 2019, Stephanie Marin\"\n",
    "__email__ = \"stephaniemarin05@yahoo.com\"\n"
   ]
  },
  {
   "cell_type": "code",
   "execution_count": 2,
   "metadata": {},
   "outputs": [],
   "source": [
    "import pandas as pd\n",
    "import numpy as np\n",
    "from matplotlib import pyplot as plt\n",
    "import warnings\n",
    "warnings.filterwarnings('ignore')\n",
    "%matplotlib inline\n",
    "\n",
    "#importing train test_split\n",
    "from sklearn.model_selection import train_test_split\n"
   ]
  },
  {
   "cell_type": "code",
   "execution_count": 6,
   "metadata": {},
   "outputs": [],
   "source": [
    "# Import the campaign dataset from Excel (Sheet 0 = Non Responders, Sheet 1 = Responders)\n",
    "president_df = pd.read_csv(\"president.csv\")"
   ]
  },
  {
   "cell_type": "code",
   "execution_count": 7,
   "metadata": {},
   "outputs": [
    {
     "data": {
      "text/html": [
       "<div>\n",
       "<style scoped>\n",
       "    .dataframe tbody tr th:only-of-type {\n",
       "        vertical-align: middle;\n",
       "    }\n",
       "\n",
       "    .dataframe tbody tr th {\n",
       "        vertical-align: top;\n",
       "    }\n",
       "\n",
       "    .dataframe thead th {\n",
       "        text-align: right;\n",
       "    }\n",
       "</style>\n",
       "<table border=\"1\" class=\"dataframe\">\n",
       "  <thead>\n",
       "    <tr style=\"text-align: right;\">\n",
       "      <th></th>\n",
       "      <th>year</th>\n",
       "      <th>state</th>\n",
       "      <th>state_po</th>\n",
       "      <th>state_fips</th>\n",
       "      <th>state_cen</th>\n",
       "      <th>state_ic</th>\n",
       "      <th>office</th>\n",
       "      <th>candidate</th>\n",
       "      <th>party</th>\n",
       "      <th>writein</th>\n",
       "      <th>candidatevotes</th>\n",
       "      <th>totalvotes</th>\n",
       "      <th>version</th>\n",
       "      <th>notes</th>\n",
       "    </tr>\n",
       "  </thead>\n",
       "  <tbody>\n",
       "    <tr>\n",
       "      <th>0</th>\n",
       "      <td>1976</td>\n",
       "      <td>Alabama</td>\n",
       "      <td>AL</td>\n",
       "      <td>1</td>\n",
       "      <td>63</td>\n",
       "      <td>41</td>\n",
       "      <td>US President</td>\n",
       "      <td>Carter, Jimmy</td>\n",
       "      <td>democrat</td>\n",
       "      <td>False</td>\n",
       "      <td>659170</td>\n",
       "      <td>1182850</td>\n",
       "      <td>20171015</td>\n",
       "      <td>NaN</td>\n",
       "    </tr>\n",
       "    <tr>\n",
       "      <th>1</th>\n",
       "      <td>1976</td>\n",
       "      <td>Alabama</td>\n",
       "      <td>AL</td>\n",
       "      <td>1</td>\n",
       "      <td>63</td>\n",
       "      <td>41</td>\n",
       "      <td>US President</td>\n",
       "      <td>Ford, Gerald</td>\n",
       "      <td>republican</td>\n",
       "      <td>False</td>\n",
       "      <td>504070</td>\n",
       "      <td>1182850</td>\n",
       "      <td>20171015</td>\n",
       "      <td>NaN</td>\n",
       "    </tr>\n",
       "    <tr>\n",
       "      <th>2</th>\n",
       "      <td>1976</td>\n",
       "      <td>Alabama</td>\n",
       "      <td>AL</td>\n",
       "      <td>1</td>\n",
       "      <td>63</td>\n",
       "      <td>41</td>\n",
       "      <td>US President</td>\n",
       "      <td>Maddox, Lester</td>\n",
       "      <td>american independent party</td>\n",
       "      <td>False</td>\n",
       "      <td>9198</td>\n",
       "      <td>1182850</td>\n",
       "      <td>20171015</td>\n",
       "      <td>NaN</td>\n",
       "    </tr>\n",
       "    <tr>\n",
       "      <th>3</th>\n",
       "      <td>1976</td>\n",
       "      <td>Alabama</td>\n",
       "      <td>AL</td>\n",
       "      <td>1</td>\n",
       "      <td>63</td>\n",
       "      <td>41</td>\n",
       "      <td>US President</td>\n",
       "      <td>Bubar, Benjamin \"\"Ben\"\"</td>\n",
       "      <td>prohibition</td>\n",
       "      <td>False</td>\n",
       "      <td>6669</td>\n",
       "      <td>1182850</td>\n",
       "      <td>20171015</td>\n",
       "      <td>NaN</td>\n",
       "    </tr>\n",
       "    <tr>\n",
       "      <th>4</th>\n",
       "      <td>1976</td>\n",
       "      <td>Alabama</td>\n",
       "      <td>AL</td>\n",
       "      <td>1</td>\n",
       "      <td>63</td>\n",
       "      <td>41</td>\n",
       "      <td>US President</td>\n",
       "      <td>Hall, Gus</td>\n",
       "      <td>communist party use</td>\n",
       "      <td>False</td>\n",
       "      <td>1954</td>\n",
       "      <td>1182850</td>\n",
       "      <td>20171015</td>\n",
       "      <td>NaN</td>\n",
       "    </tr>\n",
       "  </tbody>\n",
       "</table>\n",
       "</div>"
      ],
      "text/plain": [
       "   year    state state_po  state_fips  state_cen  state_ic        office  \\\n",
       "0  1976  Alabama       AL           1         63        41  US President   \n",
       "1  1976  Alabama       AL           1         63        41  US President   \n",
       "2  1976  Alabama       AL           1         63        41  US President   \n",
       "3  1976  Alabama       AL           1         63        41  US President   \n",
       "4  1976  Alabama       AL           1         63        41  US President   \n",
       "\n",
       "                 candidate                       party  writein  \\\n",
       "0            Carter, Jimmy                    democrat    False   \n",
       "1             Ford, Gerald                  republican    False   \n",
       "2           Maddox, Lester  american independent party    False   \n",
       "3  Bubar, Benjamin \"\"Ben\"\"                 prohibition    False   \n",
       "4                Hall, Gus         communist party use    False   \n",
       "\n",
       "   candidatevotes  totalvotes   version  notes  \n",
       "0          659170     1182850  20171015    NaN  \n",
       "1          504070     1182850  20171015    NaN  \n",
       "2            9198     1182850  20171015    NaN  \n",
       "3            6669     1182850  20171015    NaN  \n",
       "4            1954     1182850  20171015    NaN  "
      ]
     },
     "execution_count": 7,
     "metadata": {},
     "output_type": "execute_result"
    }
   ],
   "source": [
    "president_df.head()"
   ]
  },
  {
   "cell_type": "code",
   "execution_count": 9,
   "metadata": {},
   "outputs": [
    {
     "data": {
      "text/plain": [
       "(3740, 14)"
      ]
     },
     "execution_count": 9,
     "metadata": {},
     "output_type": "execute_result"
    }
   ],
   "source": [
    "president_df.shape"
   ]
  },
  {
   "cell_type": "code",
   "execution_count": 16,
   "metadata": {},
   "outputs": [
    {
     "data": {
      "text/plain": [
       "416        0.001337\n",
       "235        0.001337\n",
       "393        0.001070\n",
       "430        0.001070\n",
       "107        0.001070\n",
       "519        0.001070\n",
       "142        0.001070\n",
       "2996       0.001070\n",
       "127        0.001070\n",
       "161        0.001070\n",
       "244        0.000802\n",
       "389        0.000802\n",
       "262        0.000802\n",
       "1319       0.000802\n",
       "715        0.000802\n",
       "669        0.000802\n",
       "2          0.000802\n",
       "343        0.000802\n",
       "1662       0.000802\n",
       "790        0.000802\n",
       "22         0.000802\n",
       "2273       0.000802\n",
       "596        0.000802\n",
       "42         0.000802\n",
       "480        0.000802\n",
       "539        0.000802\n",
       "2609       0.000802\n",
       "47         0.000802\n",
       "208        0.000802\n",
       "622        0.000802\n",
       "             ...   \n",
       "21712      0.000267\n",
       "1226       0.000267\n",
       "1144008    0.000267\n",
       "1256       0.000267\n",
       "1294       0.000267\n",
       "1298       0.000267\n",
       "32021      0.000267\n",
       "460054     0.000267\n",
       "3415       0.000267\n",
       "1366       0.000267\n",
       "1362       0.000267\n",
       "1088845    0.000267\n",
       "1354       0.000267\n",
       "7497       0.000267\n",
       "50002      0.000267\n",
       "1350       0.000267\n",
       "893524     0.000267\n",
       "2082319    0.000267\n",
       "3379       0.000267\n",
       "7473       0.000267\n",
       "2527142    0.000267\n",
       "3375       0.000267\n",
       "91434      0.000267\n",
       "3367       0.000267\n",
       "1318       0.000267\n",
       "3363       0.000267\n",
       "77087      0.000267\n",
       "9502       0.000267\n",
       "13592      0.000267\n",
       "460801     0.000267\n",
       "Name: candidatevotes, Length: 3417, dtype: float64"
      ]
     },
     "execution_count": 16,
     "metadata": {},
     "output_type": "execute_result"
    }
   ],
   "source": [
    "president_df.candidatevotes.value_counts() / len(president_df)"
   ]
  },
  {
   "cell_type": "code",
   "execution_count": null,
   "metadata": {},
   "outputs": [],
   "source": []
  }
 ],
 "metadata": {
  "kernelspec": {
   "display_name": "Python 3",
   "language": "python",
   "name": "python3"
  },
  "language_info": {
   "codemirror_mode": {
    "name": "ipython",
    "version": 3
   },
   "file_extension": ".py",
   "mimetype": "text/x-python",
   "name": "python",
   "nbconvert_exporter": "python",
   "pygments_lexer": "ipython3",
   "version": "3.7.3"
  }
 },
 "nbformat": 4,
 "nbformat_minor": 2
}
